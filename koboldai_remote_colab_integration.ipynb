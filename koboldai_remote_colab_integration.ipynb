{
 "nbformat": 4,
 "nbformat_minor": 0,
 "metadata": {
  "colab": {
   "provenance": []
  },
  "kernelspec": {
   "name": "python3",
   "display_name": "Python 3"
  },
  "language_info": {
   "name": "python"
  }
 },
 "cells": [
  {
   "cell_type": "code",
   "execution_count": null,
   "metadata": {
    "id": "tTaArxu4fpu6"
   },
   "outputs": [],
   "source": [
    "import requests\n",
    "from json.decoder import JSONDecodeError\n",
    "\n",
    "def generate_text_with_koboldai(prompt):\n",
    "\n",
    "    # Ends with /api/v1/generate  (or a different version instead of v1)\n",
    "    api_url = 'https://your-api-goes-here.trycloudflare.com/api/v1/generate'\n",
    "\n",
    "    # Prompt template\n",
    "    formatted_prompt = f\"Below is an instruction that describes a task. \" \\\n",
    "                       f\"Write a response that appropriately completes the request. \" \\\n",
    "                       f\"Instruction: {prompt} Response:\"\n",
    "\n",
    "    # Example of the data to send in the POST request, more parameters in API documentation\n",
    "    data = {\n",
    "        \"prompt\": formatted_prompt,\n",
    "        \"temperature\": 0.5,\n",
    "        \"top_p\": 0.9,\n",
    "        \"rep_pen\": 1.0,\n",
    "        \"max_length\" : 200,\n",
    "    }\n",
    "\n",
    "    # Send a POST request to the API\n",
    "    response = requests.post(api_url, json=data)\n",
    "\n",
    "    # Check the status code\n",
    "    if response.status_code != 200:\n",
    "        print(\"Error:\", response.status_code, response.text)\n",
    "        return None\n",
    "    else:\n",
    "        try:\n",
    "            # Attempt to decode the JSON\n",
    "            generated_text = response.json()['results'][0]['text']\n",
    "            return generated_text\n",
    "\n",
    "        except JSONDecodeError:\n",
    "            # Handle JSON decoding failure\n",
    "            print(\"Received a non-JSON response:\")\n",
    "            print(response.text)\n",
    "            return None"
   ]
  },
  {
   "cell_type": "code",
   "source": [
    "# Example usage of the function\n",
    "prompt = \"Your prompt here\"\n",
    "generated_response = generate_text_with_koboldai(prompt)\n",
    "if generated_response:\n",
    "    print(generated_response)"
   ],
   "metadata": {
    "id": "_MoAMc0ilVjl"
   },
   "execution_count": null,
   "outputs": []
  }
 ]
}
